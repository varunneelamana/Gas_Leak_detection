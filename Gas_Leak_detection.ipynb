{
  "nbformat": 4,
  "nbformat_minor": 0,
  "metadata": {
    "colab": {
      "provenance": []
    },
    "kernelspec": {
      "name": "python3",
      "display_name": "Python 3"
    },
    "language_info": {
      "name": "python"
    }
  },
  "cells": [
    {
      "cell_type": "code",
      "execution_count": null,
      "metadata": {
        "id": "oiDq52qH2ab7"
      },
      "outputs": [],
      "source": [
        "import pandas as pd\n",
        "import math\n",
        "from matplotlib import pyplot as plt\n",
        "import numpy as np\n",
        "import seaborn as sns\n"
      ]
    },
    {
      "cell_type": "code",
      "source": [
        "df = pd.read_csv('/content/Gas_Sensors_Measurements.csv')"
      ],
      "metadata": {
        "id": "YNtzOJwZ4h_p"
      },
      "execution_count": null,
      "outputs": []
    },
    {
      "cell_type": "code",
      "source": [
        "df.shape"
      ],
      "metadata": {
        "colab": {
          "base_uri": "https://localhost:8080/"
        },
        "id": "-sBMOTLG4_LU",
        "outputId": "1489361e-2b46-4888-ca01-69bc8b1cba09"
      },
      "execution_count": null,
      "outputs": [
        {
          "output_type": "execute_result",
          "data": {
            "text/plain": [
              "(6400, 10)"
            ]
          },
          "metadata": {},
          "execution_count": 3
        }
      ]
    },
    {
      "cell_type": "code",
      "source": [
        "print(df)"
      ],
      "metadata": {
        "colab": {
          "base_uri": "https://localhost:8080/"
        },
        "id": "v4t_KlbZSmVi",
        "outputId": "4a253525-22b7-4890-c271-3716a0703e64"
      },
      "execution_count": null,
      "outputs": [
        {
          "output_type": "stream",
          "name": "stdout",
          "text": [
            "      Serial Number  MQ2  MQ3  MQ5  MQ6  MQ7  MQ8  MQ135      Gas  \\\n",
            "0                 0  555  515  377  338  666  451    416    NoGas   \n",
            "1                 1  555  516  377  339  666  451    416    NoGas   \n",
            "2                 2  556  517  376  337  666  451    416    NoGas   \n",
            "3                 3  556  516  376  336  665  451    416    NoGas   \n",
            "4                 4  556  516  376  337  665  451    416    NoGas   \n",
            "...             ...  ...  ...  ...  ...  ...  ...    ...      ...   \n",
            "6395           1595  658  445  455  414  491  321    436  Mixture   \n",
            "6396           1596  650  444  451  411  486  317    431  Mixture   \n",
            "6397           1597  630  443  446  407  474  312    429  Mixture   \n",
            "6398           1598  632  443  444  405  471  309    430  Mixture   \n",
            "6399           1599  633  442  442  402  468  306    434  Mixture   \n",
            "\n",
            "     Corresponding Image Name  \n",
            "0                     0_NoGas  \n",
            "1                     1_NoGas  \n",
            "2                     2_NoGas  \n",
            "3                     3_NoGas  \n",
            "4                     4_NoGas  \n",
            "...                       ...  \n",
            "6395             1595_Mixture  \n",
            "6396             1596_Mixture  \n",
            "6397             1597_Mixture  \n",
            "6398             1598_Mixture  \n",
            "6399             1599_Mixture  \n",
            "\n",
            "[6400 rows x 10 columns]\n"
          ]
        }
      ]
    },
    {
      "cell_type": "code",
      "source": [],
      "metadata": {
        "id": "pTSNIt_XStx0"
      },
      "execution_count": null,
      "outputs": []
    }
  ]
}